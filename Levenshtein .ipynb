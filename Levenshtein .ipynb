{
 "cells": [
  {
   "cell_type": "code",
   "execution_count": 2,
   "id": "195434d6-4752-492f-942b-aecca8df1ece",
   "metadata": {},
   "outputs": [
    {
     "name": "stdout",
     "output_type": "stream",
     "text": [
      "Most similar domain: webrashim.hit.ac.il\n"
     ]
    }
   ],
   "source": [
    "def levenshtein_distance(s1, s2):\n",
    "    if len(s1) < len(s2):\n",
    "        return levenshtein_distance(s2, s1)\n",
    "\n",
    "    if len(s2) == 0:\n",
    "        return len(s1)\n",
    "\n",
    "    previous_row = range(len(s2) + 1)\n",
    "\n",
    "    for i, c1 in enumerate(s1):\n",
    "        current_row = [i + 1]\n",
    "\n",
    "        for j, c2 in enumerate(s2):\n",
    "            insertions = previous_row[j + 1] + 1\n",
    "            deletions = current_row[j] + 1\n",
    "            substitutions = previous_row[j] + (c1 != c2)\n",
    "\n",
    "            current_row.append(min(insertions, deletions, substitutions))\n",
    "\n",
    "        previous_row = current_row\n",
    "\n",
    "    return previous_row[-1]\n",
    "\n",
    "def find_most_similar_domain(domain, domain_list):\n",
    "    min_distance = float('inf')\n",
    "    most_similar_domain = None\n",
    "\n",
    "    for d in domain_list:\n",
    "        distance = levenshtein_distance(domain, d)\n",
    "        if distance < min_distance:\n",
    "            min_distance = distance\n",
    "            most_similar_domain = d\n",
    "\n",
    "    return most_similar_domain\n",
    "\n",
    "# Example usage:\n",
    "input_domain = \"webrashim.hit.ac.il\"\n",
    "domain_list = [\"mihash\", \"hit.ac.il\", \"webrashim.hit.ac.il\", \"hit.webrashim.ac.il\", \"mihss\"]\n",
    "\n",
    "most_similar_domain = find_most_similar_domain(input_domain, domain_list)\n",
    "print(\"Most similar domain:\", most_similar_domain)\n"
   ]
  },
  {
   "cell_type": "code",
   "execution_count": null,
   "id": "a7307b37-5364-4029-a720-04b803cb1896",
   "metadata": {},
   "outputs": [],
   "source": []
  }
 ],
 "metadata": {
  "kernelspec": {
   "display_name": "Python 3 (ipykernel)",
   "language": "python",
   "name": "python3"
  },
  "language_info": {
   "codemirror_mode": {
    "name": "ipython",
    "version": 3
   },
   "file_extension": ".py",
   "mimetype": "text/x-python",
   "name": "python",
   "nbconvert_exporter": "python",
   "pygments_lexer": "ipython3",
   "version": "3.9.18"
  }
 },
 "nbformat": 4,
 "nbformat_minor": 5
}
