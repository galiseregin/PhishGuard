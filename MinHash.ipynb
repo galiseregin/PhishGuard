{
 "cells": [
  {
   "cell_type": "code",
   "execution_count": 3,
   "id": "32657509-6233-4451-904a-1d9d58ea0e46",
   "metadata": {},
   "outputs": [
    {
     "name": "stdout",
     "output_type": "stream",
     "text": [
      "Most similar domain: webrashim.hit.ac.il\n"
     ]
    }
   ],
   "source": [
    "import mmh3\n",
    "import numpy as np\n",
    "\n",
    "def minhash(domain, num_hashes):\n",
    "    shingles = set([domain[i:i+3] for i in range(len(domain)-2)])\n",
    "    hashes = np.array([min([mmh3.hash(shingle, seed=i) for shingle in shingles]) for i in range(num_hashes)])\n",
    "    return hashes\n",
    "\n",
    "def jaccard_similarity(set1, set2):\n",
    "    intersection = len(set1.intersection(set2))\n",
    "    union = len(set1.union(set2))\n",
    "    return intersection / union\n",
    "\n",
    "def find_most_similar_domain(domain, domain_list):\n",
    "    num_hashes = 100\n",
    "    domain_hashes = minhash(domain, num_hashes)\n",
    "    similarities = []\n",
    "    for d in domain_list:\n",
    "        d_hashes = minhash(d, num_hashes)\n",
    "        similarity = jaccard_similarity(set(domain_hashes), set(d_hashes))\n",
    "        similarities.append(similarity)\n",
    "    max_similarity = max(similarities)\n",
    "    most_similar_domain = domain_list[similarities.index(max_similarity)]\n",
    "    return most_similar_domain\n",
    "\n",
    "\n",
    "# Example usage:\n",
    "input_domain = \"webrashim.hit.ac.il\"\n",
    "domain_list = [\"mihash\", \"hit.ac.il\", \"webrashim.hit.ac.il\", \"hit.webrashim.ac.il\", \"mihss\"]\n",
    "\n",
    "most_similar_domain = find_most_similar_domain(input_domain, domain_list)\n",
    "print(\"Most similar domain:\", most_similar_domain)\n"
   ]
  },
  {
   "cell_type": "code",
   "execution_count": null,
   "id": "7771b05d-0641-440c-969b-7450d1f3ef86",
   "metadata": {},
   "outputs": [],
   "source": []
  }
 ],
 "metadata": {
  "kernelspec": {
   "display_name": "Python 3 (ipykernel)",
   "language": "python",
   "name": "python3"
  },
  "language_info": {
   "codemirror_mode": {
    "name": "ipython",
    "version": 3
   },
   "file_extension": ".py",
   "mimetype": "text/x-python",
   "name": "python",
   "nbconvert_exporter": "python",
   "pygments_lexer": "ipython3",
   "version": "3.9.18"
  }
 },
 "nbformat": 4,
 "nbformat_minor": 5
}
